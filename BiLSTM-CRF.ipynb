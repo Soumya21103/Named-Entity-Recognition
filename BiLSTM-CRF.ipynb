{
 "cells": [
  {
   "cell_type": "markdown",
   "metadata": {},
   "source": [
    "# Requirements"
   ]
  },
  {
   "cell_type": "code",
   "execution_count": null,
   "metadata": {},
   "outputs": [],
   "source": [
    "! pip install tensorflow==2.15.0 keras-crf scikit-learn==1.2.2 gensim matplotlib"
   ]
  },
  {
   "cell_type": "markdown",
   "metadata": {},
   "source": [
    "or"
   ]
  },
  {
   "cell_type": "code",
   "execution_count": null,
   "metadata": {},
   "outputs": [],
   "source": [
    "! pip install -r requirements.txt"
   ]
  },
  {
   "cell_type": "markdown",
   "metadata": {},
   "source": [
    "# Data loading"
   ]
  },
  {
   "cell_type": "code",
   "execution_count": null,
   "metadata": {},
   "outputs": [],
   "source": [
    "import json\n",
    "def get_data(path: str) -> dict:\n",
    "    file = open(path,\"r\")\n",
    "    data = json.load(file)\n",
    "    file.close()\n",
    "    return data"
   ]
  },
  {
   "cell_type": "code",
   "execution_count": 1,
   "metadata": {},
   "outputs": [
    {
     "data": {
      "text/plain": [
       "906"
      ]
     },
     "execution_count": 1,
     "metadata": {},
     "output_type": "execute_result"
    }
   ],
   "source": [
    "# ATE Dataset\n",
    "data_train = get_data(\"ATE_train.json\")\n",
    "data_val   = get_data(\"ATE_val.json\")\n",
    "data_test  = get_data(\"ATE_test.json\")\n",
    "len(data_train)"
   ]
  },
  {
   "cell_type": "code",
   "execution_count": 1,
   "metadata": {},
   "outputs": [
    {
     "data": {
      "text/plain": [
       "6839"
      ]
     },
     "execution_count": 1,
     "metadata": {},
     "output_type": "execute_result"
    }
   ],
   "source": [
    "# NER Dataset\n",
    "data_train = get_data(\"NER_train_rev1.json\")\n",
    "data_val   = get_data(\"NER_val_rev1.json\")\n",
    "data_test  = get_data(\"NER_test_rev1.json\")\n",
    "len(data_train)"
   ]
  },
  {
   "cell_type": "markdown",
   "metadata": {},
   "source": [
    "## Data prep"
   ]
  },
  {
   "cell_type": "code",
   "execution_count": null,
   "metadata": {},
   "outputs": [],
   "source": [
    "from keras.preprocessing.sequence import pad_sequences\n",
    "from sklearn.preprocessing import LabelEncoder\n",
    "import numpy as np\n",
    "\n",
    "def pad_and_encode_data(data:dict,maxlen:int,lenc:LabelEncoder=None):\n",
    "    tokens = []\n",
    "    labels = []\n",
    "    isgiven = False\n",
    "    if(lenc == None):\n",
    "        l = LabelEncoder()\n",
    "        isgiven = True\n",
    "    else:\n",
    "        l = lenc\n",
    "    for i in data.keys():\n",
    "        text_split = data[i][\"text\"].split(' ')\n",
    "        labels_i   = data[i][\"labels\"]\n",
    "\n",
    "        # we don't consider stale data e.g text_split = [''] and labels = []\n",
    "        if (len(text_split) != len(labels_i)):\n",
    "            continue\n",
    "\n",
    "        tokens.append(text_split)\n",
    "        labels.append(labels_i)\n",
    "    \n",
    "    tokens     = pad_sequences(sequences=tokens,maxlen=maxlen,dtype=object,padding=\"post\",truncating=\"post\",value=\"<pad>\")\n",
    "    raw_labels = pad_sequences(sequences=labels,maxlen=maxlen,dtype=object,padding=\"post\",truncating=\"post\",value=\"<pad>\")\n",
    "    labels = []\n",
    "\n",
    "    if (isgiven):\n",
    "        l.fit(np.unique(raw_labels))\n",
    "\n",
    "    for i in raw_labels:\n",
    "        labels.append(l.transform(i))\n",
    "    del raw_labels\n",
    "    \n",
    "    return tokens, labels, l"
   ]
  },
  {
   "cell_type": "code",
   "execution_count": null,
   "metadata": {},
   "outputs": [],
   "source": [
    "import pickle\n",
    "f = open(\"ENCODING_NER.pkl\",\"rb\")\n",
    "label_encoder = pickle.load(f)\n",
    "f.close()"
   ]
  },
  {
   "cell_type": "code",
   "execution_count": null,
   "metadata": {},
   "outputs": [],
   "source": [
    "import pickle\n",
    "f = open(\"ENCODING_ATE.pkl\",\"rb\")\n",
    "label_encoder = pickle.load(f)\n",
    "f.close()"
   ]
  },
  {
   "cell_type": "code",
   "execution_count": null,
   "metadata": {},
   "outputs": [],
   "source": [
    "train_x, train_y, _ = pad_and_encode_data(data_train,MAX_LEN,label_encoder)\n",
    "val_x, val_y, _     = pad_and_encode_data(data_val,MAX_LEN,label_encoder)\n",
    "text_x, text_y, _   = pad_and_encode_data(data_test,MAX_LEN,label_encoder)"
   ]
  },
  {
   "cell_type": "markdown",
   "metadata": {},
   "source": [
    "# Essestial Classes "
   ]
  },
  {
   "cell_type": "code",
   "execution_count": 3,
   "metadata": {},
   "outputs": [],
   "source": [
    "import numpy as np\n",
    "import gensim\n",
    "import re\n",
    "\n",
    "\n",
    "class Word2Vec:\n",
    "    def __init__(self,path: str,pad: str):\n",
    "        self.model = gensim.models.KeyedVectors.load(path)\n",
    "        self.pad = pad\n",
    "\n",
    "    def word2vec_preprocessing(self,token: str):\n",
    "        j = token\n",
    "        #UK to US conversion of some frequent characters\n",
    "        g_change = {\n",
    "            \"offence\" :\"offense\",\n",
    "            \"offences\":\"offenses\",\n",
    "            \"favour\"  :\"favor\",\n",
    "            \"defence\" :\"defense\",\n",
    "            \"licence\" :\"license\",\n",
    "            \"Honble\"  :\"Hon'ble\"\n",
    "        }\n",
    "        #removing non compactible tokens and converting to suitable format\n",
    "        for p  in '''(),[]<>/?!|=:;$\\'%^_{}~%\\\"''':\n",
    "            if len(j) == 1:\n",
    "                j = '<pun>'\n",
    "            else:\n",
    "                j = j.replace(p,'')\n",
    "            \n",
    "        j = re.sub(r\"\\B\\.\\B\",'',j)\n",
    "        j = re.sub(r\"\\b\\.\\B\",'',j)\n",
    "        j = re.sub(r\"[0-9]{4,}\",'####',j)\n",
    "        j = re.sub(r\"[0-9]{3}\" ,'###',j)\n",
    "        j = re.sub(r\"[0-9]{2}\" ,'##',j)\n",
    "        j = re.sub(r\"[0-9]\\.\"  ,'#.',j)\n",
    "\n",
    "        if j in ['a','of','and','to']:\n",
    "            j = '<red>'\n",
    "\n",
    "        if j in g_change.keys():\n",
    "            j = g_change[j]\n",
    "\n",
    "        return j\n",
    "    \n",
    "    def encode(self,token: list) -> np.ndarray:\n",
    "        tokens = token\n",
    "        vec = []\n",
    "        for  i in range(len(tokens)):\n",
    "            tokens[i] = self.word2vec_preprocessing(tokens[i])\n",
    "\n",
    "        for i in range(len(tokens)):\n",
    "            try:\n",
    "                vec.append(self.model.get_vector(tokens[i]))\n",
    "            except KeyError:\n",
    "                if (tokens[i] == self.pad):\n",
    "                    vec.append(np.full((300),-1.0))\n",
    "                elif (tokens[i] == \"<red>\"):\n",
    "                    vec.append(np.full( (300),1.0))\n",
    "                elif (tokens[i] == \"<pun>\"):\n",
    "                    vec.append(np.full((300),-0.5))\n",
    "                else:\n",
    "                    vec.append(np.zeros(300))\n",
    "        \n",
    "        if(len(vec) != len(token)):\n",
    "            print(\"check Embedding code tokens are missinng\")\n",
    "        return np.array(vec)"
   ]
  },
  {
   "cell_type": "code",
   "execution_count": 4,
   "metadata": {},
   "outputs": [],
   "source": [
    "import numpy as np\n",
    "import gensim\n",
    "import re\n",
    "\n",
    "\n",
    "class Glove:\n",
    "    def __init__(self,path: str,pad: str):\n",
    "        self.model = gensim.models.KeyedVectors.load(path)\n",
    "        self.pad = pad\n",
    "\n",
    "    def glove_preprocessing(self,token : str):\n",
    "        j = token.casefold()\n",
    "        #UK to US conversion of some frequent characters\n",
    "        g_change = {\n",
    "            \"honble\"  :\"honorable\"\n",
    "        }\n",
    "        j = token.casefold()\n",
    "        for p  in '''/|=:;$%^_{}~%\\'''':\n",
    "            j = j.replace(p,'')\n",
    "        j = re.sub(r\"\\B[\\.\\\":;]\\B\",'',j)\n",
    "        j = re.sub(r\"\\b[\\.\\\":;]\\B\",'',j)\n",
    "        j = re.sub(r\"\\B[\\.\\\":;]\\b\",'',j)\n",
    "        if j in g_change.keys():\n",
    "            j = g_change[j]\n",
    "        return j\n",
    "    \n",
    "    def encode(self,token: list):\n",
    "        tokens = token\n",
    "        vec = []\n",
    "        for  i in range(len(tokens)):\n",
    "            tokens[i] = self.glove_preprocessing(tokens[i])\n",
    "\n",
    "        for i in range(len(tokens)):\n",
    "            try:\n",
    "                vec.append(self.model.get_vector(tokens[i]))\n",
    "            except KeyError:\n",
    "                if (tokens[i] == self.pad):\n",
    "                    vec.append(np.full((300),-1.0))\n",
    "                else:\n",
    "                    vec.append(np.zeros(300))\n",
    "        \n",
    "        if(len(vec) != len(token)):\n",
    "            print(\"check Embedding code tokens are missinng\")\n",
    "        return np.array(vec)"
   ]
  },
  {
   "cell_type": "code",
   "execution_count": 5,
   "metadata": {},
   "outputs": [],
   "source": [
    "import numpy as np\n",
    "import gensim\n",
    "import re\n",
    "\n",
    "\n",
    "class Fasttext:\n",
    "    def __init__(self,path: str,pad: str):\n",
    "        self.model = gensim.models.KeyedVectors.load(path)\n",
    "        self.pad = pad\n",
    "\n",
    "    def fs_preprocessing(self,token : str):\n",
    "        j = token\n",
    "        for p  in '''/|=:;$%^_{}~%\\'''':\n",
    "            j = j.replace(p,'')\n",
    "        j = re.sub(r\"\\B[\\.\\\":;]\\B\",'',j)\n",
    "        j = re.sub(r\"\\b[\\.\\\":;]\\B\",'',j)\n",
    "        j = re.sub(r\"\\B[\\.\\\":;]\\b\",'',j)\n",
    "        return j\n",
    "    \n",
    "    def encode(self,token: list):\n",
    "        tokens = token\n",
    "        vec = []\n",
    "        for  i in range(len(tokens)):\n",
    "            tokens[i] = self.fs_preprocessing(tokens[i])\n",
    "\n",
    "        for i in range(len(tokens)):\n",
    "            try:\n",
    "                vec.append(self.model.get_vector(tokens[i]))\n",
    "            except KeyError:\n",
    "                if (tokens[i] == self.pad):\n",
    "                    vec.append(np.full((300),-1.0))\n",
    "                else:\n",
    "                    vec.append(np.zeros(300))\n",
    "        \n",
    "        if(len(vec) != len(token)):\n",
    "            print(\"check Embedding code tokens are missinng\")\n",
    "        return np.array(vec)"
   ]
  },
  {
   "cell_type": "code",
   "execution_count": 6,
   "metadata": {},
   "outputs": [],
   "source": [
    "def data_generator(X,y, batch_size):\n",
    "    texts  = X\n",
    "    labels = y\n",
    "    while True:\n",
    "        for i in range(0, len(texts), batch_size):\n",
    "            batch_texts  = texts[i:i+batch_size]\n",
    "            batch_labels = labels[i:i+batch_size]\n",
    "            yield batch_texts, np.array(batch_labels)"
   ]
  },
  {
   "cell_type": "code",
   "execution_count": 7,
   "metadata": {},
   "outputs": [],
   "source": [
    "def data_generatorx(X, batch_size):\n",
    "    texts = X\n",
    "    while True:\n",
    "        for i in range(0, len(texts), batch_size):\n",
    "            batch_texts = texts[i:i+batch_size]\n",
    "            yield (batch_texts,)"
   ]
  },
  {
   "cell_type": "code",
   "execution_count": 8,
   "metadata": {},
   "outputs": [],
   "source": [
    "MAX_LEN = 100"
   ]
  },
  {
   "cell_type": "code",
   "execution_count": 15,
   "metadata": {},
   "outputs": [],
   "source": [
    "from keras.callbacks import Callback\n",
    "from sklearn.metrics import f1_score\n",
    "\n",
    "class F1ScoreCallbackTrain(Callback):\n",
    "    def __init__(self,X_train,y_train,X_val,y_val,model_save_loc):\n",
    "        super().__init__()\n",
    "        self.X_train = X_train\n",
    "        self.y_train = y_train\n",
    "        self.X_val = X_val\n",
    "        self.y_val = y_val\n",
    "        self.model_save_loc = model_save_loc\n",
    "        self.val_max = 0\n",
    "\n",
    "    def on_epoch_end(self, epoch, logs=None):\n",
    "        train_predict = self.model.predict(data_generatorx(self.X_train,32),steps=int(np.ceil(len(self.X_train) / 32)),verbose=0)[0]\n",
    "        val_predict   = self.model.predict(data_generatorx(self.X_val,32),steps=int(np.ceil(len(self.X_val) / 32)),verbose=0)[0]\n",
    "\n",
    "        train_f1 = f1_score(np.array(self.y_train).flatten(), train_predict.flatten(), average='macro')\n",
    "        val_f1   = f1_score(np.array(self.y_val).flatten(), val_predict.flatten(), average='macro')\n",
    "\n",
    "        logs['train_f1_score'] = train_f1\n",
    "        logs['val_f1_score']   = val_f1\n",
    "\n",
    "        if(val_f1 > self.val_max):\n",
    "            self.model.save_weights(self.model_save_loc)\n",
    "            self.val_max = val_f1\n",
    "        "
   ]
  },
  {
   "cell_type": "code",
   "execution_count": 16,
   "metadata": {},
   "outputs": [],
   "source": [
    "import matplotlib.pyplot as plt\n",
    "\n",
    "def plot_metrics(history, task, model_type):\n",
    "    plt.figure(figsize=(12, 6))\n",
    "    plt.subplot(1, 2, 1)\n",
    "    plt.plot(history.history['loss'], label='Training Loss')\n",
    "    plt.plot(history.history['val_loss'], label='Validation Loss')\n",
    "    plt.title(f'Model Loss {task} Dataset for {model_type}')\n",
    "    plt.xlabel('Epochs')\n",
    "    plt.ylabel('Loss')\n",
    "    plt.legend()\n",
    "\n",
    "    plt.subplot(1, 2, 2)\n",
    "    plt.plot(history.history['train_f1_score'], label='Training F1 Score')\n",
    "    plt.plot(history.history['val_f1_score'], label='Validation F1 Score')\n",
    "    plt.title(f'Model F1 Score {task} Dataset for {model_type}')\n",
    "    plt.xlabel('Epochs')\n",
    "    plt.ylabel('F1 Score')\n",
    "    plt.legend()\n",
    "\n",
    "    plt.tight_layout()\n",
    "    plt.show()"
   ]
  },
  {
   "cell_type": "markdown",
   "metadata": {},
   "source": [
    "# Training with different embeddings\n"
   ]
  },
  {
   "cell_type": "code",
   "execution_count": 17,
   "metadata": {},
   "outputs": [],
   "source": [
    "embedding = Word2Vec(\"models/word2vec-google-news-300.model\",\"<pad>\")"
   ]
  },
  {
   "cell_type": "code",
   "execution_count": 18,
   "metadata": {},
   "outputs": [],
   "source": [
    "train_x_vec = np.array([embedding.encode(i) for i in train_x])\n",
    "val_x_vec   = np.array([embedding.encode(i) for i in val_x])\n",
    "test_x_vec  = np.array([embedding.encode(i) for i in text_x])"
   ]
  },
  {
   "cell_type": "code",
   "execution_count": 19,
   "metadata": {},
   "outputs": [],
   "source": [
    "del embedding"
   ]
  },
  {
   "cell_type": "code",
   "execution_count": null,
   "metadata": {},
   "outputs": [],
   "source": [
    "from keras_crf import CRFModel\n",
    "from keras.layers import Input, Bidirectional,LSTM\n",
    "from keras.models import Model\n",
    "\n",
    "input = Input(shape=(MAX_LEN,300))\n",
    "blstm = Bidirectional(LSTM(units=300, return_sequences=True))(input)\n",
    "model = Model(input,blstm)\n",
    "model = CRFModel(model,len(label_encoder.classes_))\n",
    "\n",
    "model.compile(optimizer=\"adam\", metrics=['accuracy'])"
   ]
  },
  {
   "cell_type": "code",
   "execution_count": null,
   "metadata": {},
   "outputs": [],
   "source": [
    "f1_callback = F1ScoreCallbackTrain(train_x_vec, train_y, val_x_vec, val_y,\"w2v-BLC-ATE.h5\")\n",
    "\n",
    "history = model.fit(data_generator(train_x_vec,train_y,32),\n",
    "                        steps_per_epoch=len(train_x_vec) // 32,\n",
    "                        epochs= 20,\n",
    "                        validation_data=data_generator(val_x_vec,val_y,32),\n",
    "                        validation_steps=len(val_x_vec) // 32,\n",
    "                        callbacks=[f1_callback])\n",
    "plot_metrics(history, 'NER-fs', 'Bi-LSTM-CRF')"
   ]
  },
  {
   "cell_type": "code",
   "execution_count": 11,
   "metadata": {},
   "outputs": [],
   "source": [
    "embedding = Glove(\"models/glove-wiki-gigaword-300.model\",\"<pad>\")"
   ]
  },
  {
   "cell_type": "code",
   "execution_count": 12,
   "metadata": {},
   "outputs": [],
   "source": [
    "train_x_vec = np.array([embedding.encode(i) for i in train_x])\n",
    "val_x_vec   = np.array([embedding.encode(i) for i in val_x])\n",
    "test_x_vec  = np.array([embedding.encode(i) for i in text_x])"
   ]
  },
  {
   "cell_type": "code",
   "execution_count": 13,
   "metadata": {},
   "outputs": [],
   "source": [
    "del embedding"
   ]
  },
  {
   "cell_type": "code",
   "execution_count": 28,
   "metadata": {},
   "outputs": [],
   "source": [
    "from keras_crf import CRFModel\n",
    "from keras.layers import Input, Bidirectional,LSTM\n",
    "from keras.models import Model\n",
    "\n",
    "input = Input(shape=(MAX_LEN,300))\n",
    "blstm = Bidirectional(LSTM(units=300, return_sequences=True))(input)\n",
    "model = Model(input,blstm)\n",
    "model = CRFModel(model,len(label_encoder.classes_))\n",
    "\n",
    "model.compile(optimizer=\"adam\", metrics=['accuracy'])"
   ]
  },
  {
   "cell_type": "code",
   "execution_count": 32,
   "metadata": {},
   "outputs": [
    {
     "name": "stdout",
     "output_type": "stream",
     "text": [
      "Epoch 1/20\n"
     ]
    },
    {
     "name": "stderr",
     "output_type": "stream",
     "text": [
      "2024-03-13 19:05:14.746705: W tensorflow/core/common_runtime/type_inference.cc:339] Type inference failed. This indicates an invalid graph that escaped type checking. Error message: INVALID_ARGUMENT: expected compatible input types, but input 1:\n",
      "type_id: TFT_OPTIONAL\n",
      "args {\n",
      "  type_id: TFT_PRODUCT\n",
      "  args {\n",
      "    type_id: TFT_TENSOR\n",
      "    args {\n",
      "      type_id: TFT_FLOAT\n",
      "    }\n",
      "  }\n",
      "}\n",
      " is neither a subtype nor a supertype of the combined inputs preceding it:\n",
      "type_id: TFT_OPTIONAL\n",
      "args {\n",
      "  type_id: TFT_PRODUCT\n",
      "  args {\n",
      "    type_id: TFT_TENSOR\n",
      "    args {\n",
      "      type_id: TFT_BOOL\n",
      "    }\n",
      "  }\n",
      "}\n",
      "\n",
      "\tfor Tuple type infernce function 0\n",
      "\twhile inferring type of node 'cond/output/_21'\n"
     ]
    },
    {
     "name": "stdout",
     "output_type": "stream",
     "text": [
      "28/28 [==============================] - ETA: 0s - decode_sequence_accuracy: 0.9134 - loss: 22.2161Epoch 1 - Train F1 Score: 0.4768, Validation F1 Score: 0.4824, Val max: 0.4824\n",
      "28/28 [==============================] - 16s 370ms/step - decode_sequence_accuracy: 0.9134 - loss: 21.8364 - val_decode_sequence_accuracy: 0.9636 - val_loss: 12.2379 - train_f1_score: 0.4768 - val_f1_score: 0.4824\n",
      "Epoch 2/20\n",
      "28/28 [==============================] - ETA: 0s - decode_sequence_accuracy: 0.9620 - loss: 10.4381Epoch 2 - Train F1 Score: 0.5613, Validation F1 Score: 0.5629, Val max: 0.5629\n",
      "28/28 [==============================] - 9s 318ms/step - decode_sequence_accuracy: 0.9620 - loss: 10.4558 - val_decode_sequence_accuracy: 0.9639 - val_loss: 11.2095 - train_f1_score: 0.5613 - val_f1_score: 0.5629\n",
      "Epoch 3/20\n",
      "28/28 [==============================] - ETA: 0s - decode_sequence_accuracy: 0.9642 - loss: 9.2191Epoch 3 - Train F1 Score: 0.6364, Validation F1 Score: 0.6237, Val max: 0.6237\n",
      "28/28 [==============================] - 10s 376ms/step - decode_sequence_accuracy: 0.9642 - loss: 9.2614 - val_decode_sequence_accuracy: 0.9673 - val_loss: 9.1554 - train_f1_score: 0.6364 - val_f1_score: 0.6237\n",
      "Epoch 4/20\n",
      "28/28 [==============================] - ETA: 0s - decode_sequence_accuracy: 0.9668 - loss: 8.3802Epoch 4 - Train F1 Score: 0.6710, Validation F1 Score: 0.6578, Val max: 0.6578\n",
      "28/28 [==============================] - 10s 359ms/step - decode_sequence_accuracy: 0.9668 - loss: 8.4276 - val_decode_sequence_accuracy: 0.9695 - val_loss: 7.0668 - train_f1_score: 0.6710 - val_f1_score: 0.6578\n",
      "Epoch 5/20\n",
      "28/28 [==============================] - ETA: 0s - decode_sequence_accuracy: 0.9691 - loss: 7.7577Epoch 5 - Train F1 Score: 0.7087, Validation F1 Score: 0.6914, Val max: 0.6914\n",
      "28/28 [==============================] - 10s 370ms/step - decode_sequence_accuracy: 0.9691 - loss: 7.7659 - val_decode_sequence_accuracy: 0.9721 - val_loss: 6.6147 - train_f1_score: 0.7087 - val_f1_score: 0.6914\n",
      "Epoch 6/20\n",
      "28/28 [==============================] - ETA: 0s - decode_sequence_accuracy: 0.9712 - loss: 7.3092Epoch 6 - Train F1 Score: 0.7393, Validation F1 Score: 0.7260, Val max: 0.7260\n",
      "28/28 [==============================] - 10s 359ms/step - decode_sequence_accuracy: 0.9712 - loss: 7.3056 - val_decode_sequence_accuracy: 0.9730 - val_loss: 6.6507 - train_f1_score: 0.7393 - val_f1_score: 0.7260\n",
      "Epoch 7/20\n",
      "15/28 [===============>..............] - ETA: 2s - decode_sequence_accuracy: 0.9719 - loss: 7.0695"
     ]
    }
   ],
   "source": [
    "f1_callback = F1ScoreCallbackTrain(train_x_vec, train_y, val_x_vec, val_y,\"gl-BLC-ATE.h5\")\n",
    "\n",
    "history = model.fit(data_generator(train_x_vec,train_y,32),\n",
    "                        steps_per_epoch=len(train_x_vec) // 32,\n",
    "                        epochs= 20,\n",
    "                        validation_data=data_generator(val_x_vec,val_y,32),\n",
    "                        validation_steps=len(val_x_vec) // 32,\n",
    "                        callbacks=[f1_callback])\n",
    "plot_metrics(history, 'NER-fs', 'Bi-LSTM-CRF')"
   ]
  },
  {
   "cell_type": "code",
   "execution_count": 30,
   "metadata": {},
   "outputs": [],
   "source": [
    "embedding = Fasttext(\"models/fasttext-wiki-news-subwords-300.model\",\"<pad>\")"
   ]
  },
  {
   "cell_type": "code",
   "execution_count": 31,
   "metadata": {},
   "outputs": [],
   "source": [
    "train_x_vec = np.array([embedding.encode(i) for i in train_x])\n",
    "val_x_vec   = np.array([embedding.encode(i) for i in val_x])\n",
    "test_x_vec  = np.array([embedding.encode(i) for i in text_x])"
   ]
  },
  {
   "cell_type": "code",
   "execution_count": 32,
   "metadata": {},
   "outputs": [],
   "source": [
    "del embedding"
   ]
  },
  {
   "cell_type": "code",
   "execution_count": 16,
   "metadata": {},
   "outputs": [
    {
     "name": "stderr",
     "output_type": "stream",
     "text": [
      "/home/mint/dev/NLP/sb/NLP_Assignment2/.venv/lib/python3.10/site-packages/tensorflow_addons/utils/tfa_eol_msg.py:23: UserWarning: \n",
      "\n",
      "TensorFlow Addons (TFA) has ended development and introduction of new features.\n",
      "TFA has entered a minimal maintenance and release mode until a planned end of life in May 2024.\n",
      "Please modify downstream libraries to take dependencies from other repositories in our TensorFlow community (e.g. Keras, Keras-CV, and Keras-NLP). \n",
      "\n",
      "For more information see: https://github.com/tensorflow/addons/issues/2807 \n",
      "\n",
      "  warnings.warn(\n"
     ]
    }
   ],
   "source": [
    "from keras_crf import CRFModel\n",
    "from keras.layers import Input, Bidirectional,LSTM\n",
    "from keras.models import Model\n",
    "\n",
    "input = Input(shape=(MAX_LEN,300))\n",
    "blstm = Bidirectional(LSTM(units=300, return_sequences=True))(input)\n",
    "model = Model(input,blstm)\n",
    "model = CRFModel(model,len(label_encoder.classes_))\n",
    "\n",
    "model.compile(optimizer=\"adam\", metrics=['accuracy'])"
   ]
  },
  {
   "cell_type": "code",
   "execution_count": 27,
   "metadata": {},
   "outputs": [
    {
     "name": "stdout",
     "output_type": "stream",
     "text": [
      "Epoch 1/20\n"
     ]
    },
    {
     "name": "stdout",
     "output_type": "stream",
     "text": [
      "28/28 [==============================] - ETA: 0s - decode_sequence_accuracy: 0.8911 - loss: 33.2201Epoch 1 - Train F1 Score: 0.4724, Validation F1 Score: 0.4731, Val max: 0.4731\n",
      "28/28 [==============================] - 17s 427ms/step - decode_sequence_accuracy: 0.8911 - loss: 32.5234 - val_decode_sequence_accuracy: 0.9587 - val_loss: 14.2015 - train_f1_score: 0.4724 - val_f1_score: 0.4731\n",
      "Epoch 2/20\n",
      "28/28 [==============================] - ETA: 0s - decode_sequence_accuracy: 0.9611 - loss: 11.9388Epoch 2 - Train F1 Score: 0.4724, Validation F1 Score: 0.4731, Val max: 0.4731\n",
      "28/28 [==============================] - 10s 349ms/step - decode_sequence_accuracy: 0.9611 - loss: 11.9553 - val_decode_sequence_accuracy: 0.9627 - val_loss: 12.4235 - train_f1_score: 0.4724 - val_f1_score: 0.4731\n",
      "Epoch 3/20\n",
      "28/28 [==============================] - ETA: 0s - decode_sequence_accuracy: 0.9623 - loss: 10.6131Epoch 3 - Train F1 Score: 0.4724, Validation F1 Score: 0.4731, Val max: 0.4731\n",
      "28/28 [==============================] - 10s 356ms/step - decode_sequence_accuracy: 0.9623 - loss: 10.6546 - val_decode_sequence_accuracy: 0.9639 - val_loss: 10.1078 - train_f1_score: 0.4724 - val_f1_score: 0.4731\n",
      "Epoch 4/20\n",
      "28/28 [==============================] - ETA: 0s - decode_sequence_accuracy: 0.9636 - loss: 9.7767Epoch 4 - Train F1 Score: 0.4728, Validation F1 Score: 0.4731, Val max: 0.4731\n",
      "28/28 [==============================] - 10s 361ms/step - decode_sequence_accuracy: 0.9636 - loss: 9.8098 - val_decode_sequence_accuracy: 0.9658 - val_loss: 8.6709 - train_f1_score: 0.4728 - val_f1_score: 0.4731\n",
      "Epoch 5/20\n",
      "28/28 [==============================] - ETA: 0s - decode_sequence_accuracy: 0.9643 - loss: 9.1324Epoch 5 - Train F1 Score: 0.5038, Validation F1 Score: 0.5133, Val max: 0.5133\n",
      "28/28 [==============================] - 10s 360ms/step - decode_sequence_accuracy: 0.9643 - loss: 9.1655 - val_decode_sequence_accuracy: 0.9651 - val_loss: 7.9464 - train_f1_score: 0.5038 - val_f1_score: 0.5133\n",
      "Epoch 6/20\n",
      "28/28 [==============================] - ETA: 0s - decode_sequence_accuracy: 0.9656 - loss: 8.5696Epoch 6 - Train F1 Score: 0.5603, Validation F1 Score: 0.5600, Val max: 0.5600\n",
      "28/28 [==============================] - 10s 362ms/step - decode_sequence_accuracy: 0.9656 - loss: 8.5605 - val_decode_sequence_accuracy: 0.9652 - val_loss: 7.8461 - train_f1_score: 0.5603 - val_f1_score: 0.5600\n",
      "Epoch 7/20\n",
      "28/28 [==============================] - ETA: 0s - decode_sequence_accuracy: 0.9669 - loss: 8.1361Epoch 7 - Train F1 Score: 0.6122, Validation F1 Score: 0.6058, Val max: 0.6058\n",
      "28/28 [==============================] - 10s 368ms/step - decode_sequence_accuracy: 0.9669 - loss: 8.1417 - val_decode_sequence_accuracy: 0.9637 - val_loss: 7.7887 - train_f1_score: 0.6122 - val_f1_score: 0.6058\n",
      "Epoch 8/20\n",
      "28/28 [==============================] - ETA: 0s - decode_sequence_accuracy: 0.9673 - loss: 7.7269Epoch 8 - Train F1 Score: 0.6106, Validation F1 Score: 0.6079, Val max: 0.6079\n",
      "28/28 [==============================] - 10s 361ms/step - decode_sequence_accuracy: 0.9673 - loss: 7.7568 - val_decode_sequence_accuracy: 0.9689 - val_loss: 8.0067 - train_f1_score: 0.6106 - val_f1_score: 0.6079\n",
      "Epoch 9/20\n",
      "28/28 [==============================] - ETA: 0s - decode_sequence_accuracy: 0.9683 - loss: 7.3336Epoch 9 - Train F1 Score: 0.6005, Validation F1 Score: 0.6055, Val max: 0.6079\n",
      "28/28 [==============================] - 10s 364ms/step - decode_sequence_accuracy: 0.9683 - loss: 7.3791 - val_decode_sequence_accuracy: 0.9702 - val_loss: 8.3100 - train_f1_score: 0.6005 - val_f1_score: 0.6055\n",
      "Epoch 10/20\n",
      "28/28 [==============================] - ETA: 0s - decode_sequence_accuracy: 0.9691 - loss: 7.0258Epoch 10 - Train F1 Score: 0.6002, Validation F1 Score: 0.6024, Val max: 0.6079\n",
      "28/28 [==============================] - 10s 358ms/step - decode_sequence_accuracy: 0.9691 - loss: 7.0272 - val_decode_sequence_accuracy: 0.9713 - val_loss: 7.1847 - train_f1_score: 0.6002 - val_f1_score: 0.6024\n",
      "Epoch 11/20\n",
      "28/28 [==============================] - ETA: 0s - decode_sequence_accuracy: 0.9695 - loss: 6.7922Epoch 11 - Train F1 Score: 0.6289, Validation F1 Score: 0.6383, Val max: 0.6383\n",
      "28/28 [==============================] - 10s 358ms/step - decode_sequence_accuracy: 0.9695 - loss: 6.8117 - val_decode_sequence_accuracy: 0.9722 - val_loss: 6.1156 - train_f1_score: 0.6289 - val_f1_score: 0.6383\n",
      "Epoch 12/20\n",
      "28/28 [==============================] - ETA: 0s - decode_sequence_accuracy: 0.9703 - loss: 6.5568Epoch 12 - Train F1 Score: 0.6788, Validation F1 Score: 0.6883, Val max: 0.6883\n",
      "28/28 [==============================] - 10s 365ms/step - decode_sequence_accuracy: 0.9703 - loss: 6.5349 - val_decode_sequence_accuracy: 0.9696 - val_loss: 5.9467 - train_f1_score: 0.6788 - val_f1_score: 0.6883\n",
      "Epoch 13/20\n",
      "28/28 [==============================] - ETA: 0s - decode_sequence_accuracy: 0.9712 - loss: 6.3554Epoch 13 - Train F1 Score: 0.7108, Validation F1 Score: 0.7058, Val max: 0.7058\n",
      "28/28 [==============================] - 10s 360ms/step - decode_sequence_accuracy: 0.9712 - loss: 6.3641 - val_decode_sequence_accuracy: 0.9680 - val_loss: 5.6484 - train_f1_score: 0.7108 - val_f1_score: 0.7058\n",
      "Epoch 14/20\n",
      "28/28 [==============================] - ETA: 0s - decode_sequence_accuracy: 0.9719 - loss: 6.1567Epoch 14 - Train F1 Score: 0.7249, Validation F1 Score: 0.7117, Val max: 0.7117\n",
      "28/28 [==============================] - 10s 366ms/step - decode_sequence_accuracy: 0.9719 - loss: 6.1398 - val_decode_sequence_accuracy: 0.9694 - val_loss: 5.7627 - train_f1_score: 0.7249 - val_f1_score: 0.7117\n",
      "Epoch 15/20\n",
      "28/28 [==============================] - ETA: 0s - decode_sequence_accuracy: 0.9721 - loss: 6.0177Epoch 15 - Train F1 Score: 0.7150, Validation F1 Score: 0.6974, Val max: 0.7117\n",
      "28/28 [==============================] - 10s 360ms/step - decode_sequence_accuracy: 0.9721 - loss: 5.9918 - val_decode_sequence_accuracy: 0.9721 - val_loss: 6.4025 - train_f1_score: 0.7150 - val_f1_score: 0.6974\n",
      "Epoch 16/20\n",
      "28/28 [==============================] - ETA: 0s - decode_sequence_accuracy: 0.9727 - loss: 5.8558Epoch 16 - Train F1 Score: 0.6895, Validation F1 Score: 0.6747, Val max: 0.7117\n",
      "28/28 [==============================] - 10s 356ms/step - decode_sequence_accuracy: 0.9727 - loss: 5.8672 - val_decode_sequence_accuracy: 0.9739 - val_loss: 8.0513 - train_f1_score: 0.6895 - val_f1_score: 0.6747\n",
      "Epoch 17/20\n",
      "28/28 [==============================] - ETA: 0s - decode_sequence_accuracy: 0.9737 - loss: 5.6540Epoch 17 - Train F1 Score: 0.7020, Validation F1 Score: 0.6760, Val max: 0.7117\n",
      "28/28 [==============================] - 10s 372ms/step - decode_sequence_accuracy: 0.9737 - loss: 5.6163 - val_decode_sequence_accuracy: 0.9728 - val_loss: 6.2707 - train_f1_score: 0.7020 - val_f1_score: 0.6760\n",
      "Epoch 18/20\n",
      "28/28 [==============================] - ETA: 0s - decode_sequence_accuracy: 0.9741 - loss: 5.5455Epoch 18 - Train F1 Score: 0.7229, Validation F1 Score: 0.6959, Val max: 0.7117\n",
      "28/28 [==============================] - 10s 359ms/step - decode_sequence_accuracy: 0.9741 - loss: 5.4980 - val_decode_sequence_accuracy: 0.9734 - val_loss: 4.9082 - train_f1_score: 0.7229 - val_f1_score: 0.6959\n",
      "Epoch 19/20\n",
      "28/28 [==============================] - ETA: 0s - decode_sequence_accuracy: 0.9745 - loss: 5.4357Epoch 19 - Train F1 Score: 0.7288, Validation F1 Score: 0.7007, Val max: 0.7117\n",
      "28/28 [==============================] - 10s 362ms/step - decode_sequence_accuracy: 0.9745 - loss: 5.4155 - val_decode_sequence_accuracy: 0.9732 - val_loss: 5.4128 - train_f1_score: 0.7288 - val_f1_score: 0.7007\n",
      "Epoch 20/20\n",
      "28/28 [==============================] - ETA: 0s - decode_sequence_accuracy: 0.9751 - loss: 5.2985Epoch 20 - Train F1 Score: 0.7714, Validation F1 Score: 0.7421, Val max: 0.7421\n",
      "28/28 [==============================] - 10s 359ms/step - decode_sequence_accuracy: 0.9751 - loss: 5.3007 - val_decode_sequence_accuracy: 0.9724 - val_loss: 4.6065 - train_f1_score: 0.7714 - val_f1_score: 0.7421\n"
     ]
    },
    {
     "data": {
      "image/png": "[encoded data removed]",
      "text/plain": [
       "<Figure size 1200x600 with 2 Axes>"
      ]
     },
     "metadata": {},
     "output_type": "display_data"
    }
   ],
   "source": [
    "f1_callback = F1ScoreCallbackTrain(train_x_vec, train_y, val_x_vec, val_y,\"fs-BLC-ATE.h5\")\n",
    "\n",
    "history = model.fit(data_generator(train_x_vec,train_y,32),\n",
    "                        steps_per_epoch=len(train_x_vec) // 32,\n",
    "                        epochs= 20,\n",
    "                        validation_data=data_generator(val_x_vec,val_y,32),\n",
    "                        validation_steps=len(val_x_vec) // 32,\n",
    "                        callbacks=[f1_callback])\n",
    "plot_metrics(history, 'NER-fs', 'Bi-LSTM-CRF')"
   ]
  },
  {
   "cell_type": "markdown",
   "metadata": {},
   "source": [
    "# Test Script"
   ]
  },
  {
   "cell_type": "code",
   "execution_count": 17,
   "metadata": {},
   "outputs": [],
   "source": [
    "from sklearn.metrics import accuracy_score, f1_score\n",
    "\n",
    "def print_stats(model,title,full=False):\n",
    "    test_predict = model.predict(data_generatorx(test_x_vec,32),steps=int(np.ceil(len(test_x_vec) / 32)),verbose=0)[0]\n",
    "    test_f1 = f1_score(np.array(text_y).flatten(), test_predict.flatten(), average=None)\n",
    "    test_acc = accuracy_score(np.array(text_y).flatten(), test_predict.flatten())\n",
    "    lb = label_encoder.inverse_transform(np.argsort(test_f1))\n",
    "    test_f1 = np.sort(test_f1)\n",
    "    print(\"--------------------------------------------------------------------------------\")\n",
    "    # We dont consider the pad tokens\n",
    "    print(f\"Overal Test Results for {title}: Accuracy: {test_acc*100:.2f} % F1: {np.mean(test_f1[:-1]):.4f}\")\n",
    "    print(\"--------------------------------------------------------------------------------\")\n",
    "    if(full):\n",
    "        for i in range(len(test_f1)):\n",
    "            print(\"F1_macro for\",lb[i],' '*(15-len(lb[i])),':',f\"{test_f1[i]:.4f}\")\n"
   ]
  },
  {
   "cell_type": "code",
   "execution_count": 18,
   "metadata": {},
   "outputs": [],
   "source": [
    "model.load_weights(\"mod/gl-BLC.h5\")"
   ]
  },
  {
   "cell_type": "code",
   "execution_count": 19,
   "metadata": {},
   "outputs": [
    {
     "name": "stdout",
     "output_type": "stream",
     "text": [
      "--------------------------------------------------------------------------------\n",
      "Overal Test Results for gl-BLC ATE: Accuracy: 98.04 % F1: 0.6487\n",
      "--------------------------------------------------------------------------------\n",
      "F1_macro for B_RESPONDENT     : 0.1600\n",
      "F1_macro for I_RESPONDENT     : 0.1818\n",
      "F1_macro for I_GPE            : 0.3733\n",
      "F1_macro for B_PETITIONER     : 0.4000\n",
      "F1_macro for B_ORG            : 0.4206\n",
      "F1_macro for B_JUDGE          : 0.4286\n",
      "F1_macro for I_ORG            : 0.4770\n",
      "F1_macro for B_OTHER_PERSON   : 0.4921\n",
      "F1_macro for I_PETITIONER     : 0.5000\n",
      "F1_macro for B_WITNESS        : 0.5333\n",
      "F1_macro for I_OTHER_PERSON   : 0.5603\n",
      "F1_macro for I_JUDGE          : 0.5714\n",
      "F1_macro for B_GPE            : 0.5752\n",
      "F1_macro for I_WITNESS        : 0.6379\n",
      "F1_macro for B_CASE_NUMBER    : 0.6385\n",
      "F1_macro for I_CASE_NUMBER    : 0.7765\n",
      "F1_macro for B_PRECEDENT      : 0.8000\n",
      "F1_macro for B_STATUTE        : 0.8196\n",
      "F1_macro for I_STATUTE        : 0.8512\n",
      "F1_macro for I_COURT          : 0.8689\n",
      "F1_macro for B_COURT          : 0.8814\n",
      "F1_macro for B_DATE           : 0.8936\n",
      "F1_macro for I_PROVISION      : 0.9203\n",
      "F1_macro for I_PRECEDENT      : 0.9224\n",
      "F1_macro for B_PROVISION      : 0.9252\n",
      "F1_macro for I_DATE           : 0.9301\n",
      "F1_macro for O                : 0.9768\n",
      "F1_macro for <pad>            : 1.0000\n"
     ]
    }
   ],
   "source": [
    "\n",
    "print_stats(model,\"gl-BLC ATE\",True)"
   ]
  }
 ],
 "metadata": {
  "kernelspec": {
   "display_name": ".venv",
   "language": "python",
   "name": "python3"
  },
  "language_info": {
   "codemirror_mode": {
    "name": "ipython",
    "version": 3
   },
   "file_extension": ".py",
   "mimetype": "text/x-python",
   "name": "python",
   "nbconvert_exporter": "python",
   "pygments_lexer": "ipython3",
   "version": "3.10.12"
  }
 },
 "nbformat": 4,
 "nbformat_minor": 2
}
